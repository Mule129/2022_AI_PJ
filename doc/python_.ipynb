{
 "cells": [
  {
   "cell_type": "markdown",
   "metadata": {},
   "source": [
    "# 비트, 바이트, 데이터\n",
    "- 비트(bit)\n",
    "0과 1 중 하나를 저장할 수 있는 데이터의 최소 단위\n",
    "- 바이트(byte)\n",
    "비트가 8개 모인것, 8비트 = 1바이트\n",
    "- 데이터\n"
   ]
  },
  {
   "cell_type": "code",
   "execution_count": null,
   "metadata": {},
   "outputs": [],
   "source": [
    "0b0001 #0b는 2진수를 나타냄\n",
    "0b00000001 #8비트(1바이트를 나타냄)"
   ]
  },
  {
   "cell_type": "markdown",
   "metadata": {},
   "source": [
    "# 변수\n",
    "데이터를 저장하기 위해 메모리에서 할당받은 공간, 여기서 데이터는 숫자, 문자에만 국한되는 것이 아니다.\n",
    "- 데이터 타입\n",
    "\n",
    "타 프로그래밍 언어에서는 데이터를 메모리에 저장할 때 이 데이터가 어떤 타입인지 규명해 줘야 하지만 파이썬은 규명 없이 바로 사용할 수 있다. \n",
    "\n",
    "파이썬에서 사용하는 자료형은 >\n",
    "\n",
    "\n",
    "int : 정수형, float : 실수형, bool : 불리언, list : 리스트형, dict : 사전형, tuple : 튜플형, set : 집합형 등이 있다.\n",
    "\n",
    "- 데이터 크기\n",
    "\n",
    "타 프로그래밍 언어에서는 데이터를 메모리에 저장할 때 메모리 공간이 한정되어 있어 데이터의 크기에 따라 직접 늘려줘야 하지만 파이썬은 그런거 없다.\n",
    "기본 int가 4바이트(비트 32개)로 저장할 수 있는 숫자의 범위가 -2,147,483,648 ~ 2,147,483,647까지이다.\n",
    "- 객체화\n",
    "\n",
    "변수에 데이터를 저장할 때, 저장하려는 데이터가 클래스일 경우 이를 인스턴스화 라고 한다. 쉽게 풀어 말하면 클래스를 작동시킨 상태 = 인스턴스화"
   ]
  },
  {
   "cell_type": "code",
   "execution_count": 1,
   "metadata": {},
   "outputs": [],
   "source": [
    "#int a = 0; #c언어에서 정수형 연산자를 선언하는 방법\n",
    "a = 0 #파이썬에서 변수 선언 방법, 파이썬은 변수의 데이터 타입에 따라 유동적으로 바뀐다\n",
    "\n",
    "class test_1(): #클래스 객체 선언\n",
    "    pass\n",
    "\n",
    "data = test_1() # 객체 인스턴스화(실행)"
   ]
  },
  {
   "cell_type": "markdown",
   "metadata": {},
   "source": [
    "# 연산자\n",
    "- 대입연산자\n",
    "\n",
    "흔히 알고 있는 \"=\" 왼쪽에는 데이터 저장위치, 오른쪽은 저장할 데이터라고 생각하면 편한다. 같다의 뜻이 아니라 대입한다는 뜻이니 혼동하지 말것.\n",
    "- 논리연산자\n",
    "\n",
    "==(같음), !=(not, 다름),  &&(and), ||(or)\n",
    "- 비트연산자(쓸일이 거의 없는편이긴 한데 비트단위에서 바로 연산을 수행하는거라 속도가 매우 빠른 편)\n",
    "\n",
    "& (and), | (or), ^ (xor), ~ (not), << (shift, 비트 왼쪽이동), >> (shift, 비트 오른쪽 이동) "
   ]
  },
  {
   "cell_type": "code",
   "execution_count": null,
   "metadata": {},
   "outputs": [],
   "source": [
    "a = 0\n",
    "b = 10\n",
    "a = b\n",
    "\n",
    "print(a, b)"
   ]
  },
  {
   "cell_type": "code",
   "execution_count": null,
   "metadata": {},
   "outputs": [],
   "source": [
    "#c와 d의 값을 변경해서 셀을 실행해보자\n",
    "c = 1\n",
    "d = 2 \n",
    "print(c == d)\n",
    "print(c != d)\n",
    "print(c and d)\n",
    "print(c or d)"
   ]
  },
  {
   "cell_type": "code",
   "execution_count": null,
   "metadata": {},
   "outputs": [],
   "source": [
    "a = 0b0001\n",
    "b = 0b0011\n",
    "\n",
    "print(a & b)\n",
    "print(a | b)\n",
    "print(a << b)\n",
    "print(a >> b)"
   ]
  },
  {
   "cell_type": "markdown",
   "metadata": {},
   "source": [
    "# 조건문\n",
    "- if\n",
    "\n",
    "만약 (조건)이 \"참\" 이라면 하위 코드 실행\n",
    "- else\n",
    "\n",
    "if문과 함께 쓰인다. 절대 혼자 쓰일 수 없다. if문이 \"참\"이 아닐 때 실행\n",
    "- else - if (elif/elseif)\n",
    "\n",
    "if문과 함께 쓰인다. if문이 \"참\"이 아니면서, elif의 조건이 \"참\"이면 하위 코드가 실행된다."
   ]
  },
  {
   "cell_type": "code",
   "execution_count": null,
   "metadata": {},
   "outputs": [],
   "source": [
    "#변수 a를 바꿔가며 작동시켜보자\n",
    "a = 0\n",
    "\n",
    "if a == 0:\n",
    "    print(a)\n",
    "else :\n",
    "    print(a + 1)\n",
    "\n",
    "if a == 1:\n",
    "    print(a)\n",
    "elif a == 0:\n",
    "    print(a + 1)\n",
    "elif a == 2:\n",
    "    print(a + 3)\n",
    "else :\n",
    "    print(a + 2)"
   ]
  },
  {
   "cell_type": "markdown",
   "metadata": {},
   "source": [
    "# 반복문\n",
    "- for\n",
    "\n",
    "for문은 파이썬과 c언어의 반은 차이점이 있다. 파이썬은 리스트를 나열하여 그 리스트 안의 값을 순차적으로 실행하며 반복, c언어는 임의의 변수의 값에 연산을 하며 임의의 변수 값의 크기에 따라 실행한다.\n",
    "- while\n",
    "\n",
    "조건이 참일 경우 실행, 참이 아닐 경우 종료"
   ]
  },
  {
   "cell_type": "code",
   "execution_count": null,
   "metadata": {},
   "outputs": [],
   "source": [
    "for i in range(10):\n",
    "    print(i)\n",
    "\n",
    "print(\"----------------------------\")\n",
    "\n",
    "for i in [0, 1, 2, 3, 4, 5, 6, 7, 8, 9]:\n",
    "    print(i)"
   ]
  },
  {
   "cell_type": "code",
   "execution_count": null,
   "metadata": {},
   "outputs": [],
   "source": [
    "a = 0\n",
    "while a < 10 :\n",
    "    print(a)\n",
    "    a = a + 1"
   ]
  },
  {
   "cell_type": "markdown",
   "metadata": {},
   "source": [
    "# 함수\n",
    "특별한 목적을 가진 작업을 수행하기 위해 독립적으로 설계된 프로그램 코드의 집합\n",
    "- 함수 선언(def 함수이름 (인자))\n",
    "- 함수 종료(return)\n",
    "(retrun 변수) 로 사용, return문을 만나면 함수는 그 줄에서 변수를 전달하고 종료됨\n",
    "함수는 종료시 return을 사용할 시 자원을 반환하고 함수 자기 자신을 종료시킴. 함수의 종류에는 자원 회수함수(return 사용)와 자원을 회수하지 않는 함수(trturn 미사용) void가 있음) 파이썬은 return을 안쓰면 void 함수로, 사용하면 자원 회수함수로 알아서 변환됨\n",
    "- 재귀함수\n",
    "함수 안에서 자기 자신을 다시 호출하는 함수, 반드시 적절한 제어문으로 탈출조건을 걸어놔야함.. 안그러면 ^^ ~~실제 응용이 되는 경우가 적다 하는데, 무한반복의 문제점을 일으킬 가능성으로 인해 사용하지 않는다고 함~~"
   ]
  },
  {
   "cell_type": "code",
   "execution_count": null,
   "metadata": {},
   "outputs": [],
   "source": [
    "def 함수이름(a):\n",
    "    print(a)\n",
    "    return a+1\n",
    "\n",
    "def void함수(a, b):\n",
    "    print(a)\n",
    "    print(b)\n",
    "\n",
    "data = 함수이름(1, 2)\n",
    "print(data)\n",
    "\n",
    "print(\"-------------------\")\n",
    "\n",
    "data1 = void함수(3, 4)\n",
    "print(data1)"
   ]
  },
  {
   "cell_type": "code",
   "execution_count": null,
   "metadata": {},
   "outputs": [],
   "source": [
    "def 함수(a):\n",
    "    a = a + 1\n",
    "    print(a)\n",
    "    if a < 10: #재귀함수 탈출조건 설정\n",
    "        함수(a)\n",
    "    else :\n",
    "        return\n",
    "\n",
    "함수(1)"
   ]
  },
  {
   "cell_type": "markdown",
   "metadata": {},
   "source": [
    "# 인수, 인자\n",
    "\n"
   ]
  },
  {
   "cell_type": "code",
   "execution_count": null,
   "metadata": {},
   "outputs": [],
   "source": [
    "def 함수이름(a): #이 자리에 들어가는 a는 인자\n",
    "    data = a\n",
    "    return data\n",
    "data = 함수이름(10) #이 자리에 들어가는 10은 인수"
   ]
  },
  {
   "cell_type": "markdown",
   "metadata": {},
   "source": [
    "# 클래스\n",
    "객체지향 프로그래밍에서 특정 객체를 생성하기 위한 변수와 메소드(함수, 클래스 내의 함수를 메소드라고 말한다)를 정의하는 틀, 이 틀은 앞서 설명했던 데이터 타입과 비슷하다고 봐도 o\n",
    "- __init__\n",
    "\n",
    "인스턴스화를 시작할 때 초기화를 진행해주는 함수\n",
    "- self\n",
    "\n",
    "객체의 인스턴스(파이썬적 의미는 실행중인 클래스) 그 자체, 변수를 인스턴스화 시킬때 함수에게 전해주는 인자\n",
    "\n",
    "https://docs.python.org/3/faq/design.html#why-self 참고\n",
    "\n",
    "- 클래스 인자, 메소드 인자\n",
    "- 변수, 메소드(함수)\n",
    "- 상속"
   ]
  },
  {
   "cell_type": "code",
   "execution_count": null,
   "metadata": {},
   "outputs": [],
   "source": [
    "class TestClass():\n",
    "    def __init__(self):\n",
    "        self.a = 0\n",
    "        self.b = 1\n",
    "    def function1(self, a, b):\n",
    "        self.a = a+b\n",
    "        self.b = a+b - 3\n",
    "\n",
    "data = TestClass() #클래스 인스턴스화\n",
    "data.function1(2, 5)\n",
    "print(data.a)\n",
    "print(data.b)"
   ]
  },
  {
   "cell_type": "markdown",
   "metadata": {},
   "source": [
    "# 모듈(라이브러리)\n",
    "다양한 기능의 함수와 클래스를 모아놓은 것 \n",
    "- 불러오는법\n",
    "python -m pip install 모듈명\n",
    "= pip install 모듈명\n",
    "python.exe를 환경변수로 지정해줬으면 아래와 같이 작성해도 가능함, 환경변수는 프로그램이 작업표시줄에 있냐 없냐의 느낌\n",
    "- from, import, as\n",
    "설치한 모듈을 파이썬에선 import로 불러올 수 있음. (import 모듈명)\n",
    "from 모듈명 import 모듈 내 클래스 혹은 함수 from을 이용해 모듈 내에 있는 특정한 부분만 불러올 수 있음(필요한 부분만 사용하기 위한 경우)\n",
    "import 모듈명 as 별명 모듈명이 길 경우 이와 같이 별명을 이용해 모듈명을 줄일 수 있음, 이는 별명 = 모듈명 과 같은 원리"
   ]
  },
  {
   "cell_type": "code",
   "execution_count": null,
   "metadata": {},
   "outputs": [],
   "source": [
    "%python -m pip install numpy\n",
    "%pip install numpy # numpy모듈 설치(명령 프롬던트에서)"
   ]
  },
  {
   "cell_type": "code",
   "execution_count": null,
   "metadata": {},
   "outputs": [],
   "source": [
    "import numpy\n",
    "from numpy import *\n",
    "from numpy import doc # numpy 모듈 안에 어떤 것들이 있는지 궁금하면, 직접 찾아보자! 넘파이 모듈 설치 위치로 가거나, 공식문서로 가면 알 수 있다\n",
    "import numpy as np\n",
    "from numpy import doc as d\n",
    "\n",
    "print(numpy.__path__) #넘파이 설치 위치, 파이썬을 어디에 설치했는지, 가상환경을 설정했는지 등에 따라 경로가 다를테니 직접 실행해보기"
   ]
  },
  {
   "cell_type": "markdown",
   "metadata": {},
   "source": [
    "# 경로\n",
    "다양한 파일들을 생성, 저장하는 데에는 경로가 매우 중요한 역할을 한다.\n",
    "- 마침표로 표시하는 경로\n",
    "\n",
    "파이썬에서는 모듈등의 경로를 표시할 때 마침표(점 연산자, 또는 객체 멤버 접근 연산자라 불림)를 찍어 구분함.  모듈.클래스1.메소드1 <- 이렇게> 파일 디렉터리에서 문서\\파일1 과 같이 구분하는것과 같은 원리\n",
    "- 상대경로, 절대경로\n",
    "\n",
    "절대경로는 우리가 아는 그 경로, c:\\에서 시작해서 현재 열고있는 파일이 위치한 곳까지 추척한 것\n",
    "C:\\Users\\user\\Documents\\Github\n",
    "상대경로는 상대적인 위치에서 현재 열고있는 파일 위치까지를 나타냄, 상대적인 위치의 시작은 사용자가 직접 지정함\n",
    "Documents\\Github (user 폴더가 상대적인 위치의 시작으로 지정이 됐을때 그곳부터 github까지 위치)"
   ]
  },
  {
   "cell_type": "code",
   "execution_count": null,
   "metadata": {},
   "outputs": [],
   "source": [
    "import os\n",
    "import sys\n",
    "import mediapipe as mp\n",
    "\n",
    "pose = mp.solutions.pose()\n",
    "\n",
    "print(os.path)\n",
    "print(sys.path)"
   ]
  }
 ],
 "metadata": {
  "kernelspec": {
   "display_name": "Python 3.10.4 ('_py_venv_3.8': venv)",
   "language": "python",
   "name": "python3"
  },
  "language_info": {
   "codemirror_mode": {
    "name": "ipython",
    "version": 3
   },
   "file_extension": ".py",
   "mimetype": "text/x-python",
   "name": "python",
   "nbconvert_exporter": "python",
   "pygments_lexer": "ipython3",
   "version": "3.10.4"
  },
  "orig_nbformat": 4,
  "vscode": {
   "interpreter": {
    "hash": "8fdbd1a8a718dcd891737b9f2c716b91ec843bca5ce8a6d2f5ff447f56ec2dd7"
   }
  }
 },
 "nbformat": 4,
 "nbformat_minor": 2
}
