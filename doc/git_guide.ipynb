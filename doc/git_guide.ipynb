{
 "cells": [
  {
   "cell_type": "markdown",
   "metadata": {},
   "source": [
    "# GITHUB\n",
    "구글 드라이브와 같은 존재, 롤백기능과 비교기능, 그리고 수정시 필요한 부분만 업데이트 기능을 곁들인\n",
    "> Github Desktop\n",
    ": Github Desktop의 기반은 git이다. 이 git은 CLI로 처음 git을 접하는 사용자에게 많은 어려움을 줘 git에 익숙해지고자 GUI로 제작된 Github Destop 사용\n",
    "> 퍼블릭 저장소 생성하기\n",
    ": github.com에 들어가서 회원가입(또는 로그인) 후 이메일 인증, new Repositories 생성 > 저장소 이름, 공개/비공개 여부(공유하려면 공개로) 등 설정 후 생성\n",
    "> 저장소 클론(복제)하기\n",
    ": 생성된 저장소에서 Code > Open with Github Desktop 선택(깃허브 데스크탑 프로그램이 설치되어있고, 생성한 깃허브 계정으로 로그인이 되어 있어야함) > 깃허브 데스크탑에서 경로 선택 후 클론 확인\n",
    "> 새 파일 생성하기\n",
    "Show in Explorer > 탐색기로 만들어진 공유저장소 확인해보고 txt파일 2개 생성하기 > 각각 다른 이름, 내용 수정 후 저장\n",
    "> 수정된 파일을 깃허브 데스크탑에서 확인하기\n",
    "1. Commit\n",
    "수정된 사항(또는 수정된 사항들)을 커밋하여 \n"
   ]
  },
  {
   "cell_type": "code",
   "execution_count": null,
   "metadata": {},
   "outputs": [],
   "source": []
  }
 ],
 "metadata": {
  "language_info": {
   "name": "python"
  },
  "orig_nbformat": 4
 },
 "nbformat": 4,
 "nbformat_minor": 2
}
