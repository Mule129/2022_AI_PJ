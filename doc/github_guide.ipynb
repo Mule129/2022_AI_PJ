{
 "cells": [
  {
   "cell_type": "markdown",
   "metadata": {},
   "source": [
    "# GITHUB\n",
    "구글 드라이브와 같은 존재, 롤백기능과 비교기능, 그리고 수정시 필요한 부분만 업데이트 기능을 곁들인\n",
    "\n",
    "Github Desktop의 기반은 git이다. 이 git은 CLI로 처음 git을 접하는 사용자에게 많은 어려움을 줘 git에 익숙해지고자 GUI로 제작된 Github Destop 사용"
   ]
  },
  {
   "cell_type": "code",
   "execution_count": null,
   "metadata": {},
   "outputs": [],
   "source": [
    "#test"
   ]
  },
  {
   "cell_type": "markdown",
   "metadata": {},
   "source": [
    "- 퍼블릭 저장소 생성하기\n",
    "\n",
    "github.com에 들어가서 회원가입(또는 로그인) 후 이메일 인증, new Repositories 생성 > 저장소 이름, 공개/비공개 여부(공유하려면 공개로) 등 설정 후 생성\n",
    "\n",
    "- 저장소 클론(복제)하기\n",
    "\n",
    "생성된 저장소에서 Code > Open with Github Desktop 선택(깃허브 데스크탑 프로그램이 설치되어있고, 생성한 깃허브 계정으로 로그인이 되어 있어야함) > 깃허브 데스크탑에서 경로 선택 후 클론 확인\n",
    "\n",
    "- 새 파일 생성하기\n",
    "\n",
    "Show in Explorer > 탐색기로 만들어진 공유저장소 확인해보고 txt파일 2개 생성하기 > 각각 다른 이름, 내용 수정 후 저장\n",
    "\n",
    "- 수정된 파일을 깃허브 데스크탑에서 확인하기"
   ]
  },
  {
   "cell_type": "code",
   "execution_count": null,
   "metadata": {},
   "outputs": [],
   "source": []
  },
  {
   "cell_type": "markdown",
   "metadata": {},
   "source": [
    "# Commit\n",
    "변경사항을 추가하는 과정\n",
    "\n",
    "- 수정한 파일들이 실시간으로 변경되어 서버로 적용되는 것이 아니라, 직접 커밋을 통해 어떤 파일들을 변경할지 선택을 해줘야 한다.\n",
    "\n",
    ">생성한 두개의 파일 중 하나의 파일만 커밋해보기\n",
    "\n",
    "# Push Origin\n",
    "\n",
    "- 추가된 변경사항을 이 기기가 아닌, 메인 서버인 main으로 업로드 하는 과정, 업로드 이후 어떤 변경사항을 업로드 했는지는 History에서 확인 가능하다. 이 과정이 없으면 다른 사람들은 자신이 변경한 commit을 확인하지 못한다.\n",
    ">커밋한 파일을 메인 서버로 업로드하기\n",
    "\n",
    "# Fecth Origin\n",
    "\n",
    "- 다른 사용자가 커밋하여 서버에 적용시킨 내용들을 Fecth Origin을 통하여 업데이트 할 수 있다.\n",
    "\n",
    "# Brunch\n",
    "\n",
    "- 말 그대로 하나의 나무에서 갈라지는 나뭇가지와 같은 존재, 각 브런치는 기존 저장소에서 파생된 존재이며, 커밋, 푸시 등이 서로 동기화 되지 않는 별도의 저장소이다(서로 별도의 저장소이지만, 더 좋은 내용을 선택하여 병합 가능하다.\n",
    "\n",
    "- 보통 main(또는 master)은 메인 저장소, 각 브런치는 main 저장소의 메인코드를 수정하다 파일을 손상시키지 않게 하기 위하여 사용되거나, 서로 다른 유저가 수정한 내용을 병합하는데에 사용된다(brunch 1(1번유저가 수정), brunch 2(2번유저가 수정) -> brunch 1, 2중 나은 것을 택해 main에 병합(적용)시킴)"
   ]
  },
  {
   "cell_type": "code",
   "execution_count": null,
   "metadata": {},
   "outputs": [],
   "source": []
  },
  {
   "attachments": {},
   "cell_type": "markdown",
   "metadata": {},
   "source": [
    "# UI 설명\n",
    "<img src=\"https://drive.google.com/uc?export=download&id=1kEpl3idYozemweH4VUHfA28T3VHafyNl\" align=\"right\" width = \"50%\" hieght = \"50%\">\n",
    "\n",
    "1. 저장소 선택\n",
    "2. 브런치 선택\n",
    "3. 동기화/패치/수정사항 본 서버에 업데이트\n",
    "4. 변경사항 확인(커밋할 변경사항 확인하기, 파일 체크박스 선택/해제로 커밋할 것만 선택 가능, 파일 마우스 오른쪽 클릭으로 다양한 작업 가능(파일 삭제, 파일 경로 등))\n",
    "5. 서버에 적용된 이전 커밋 변경사항 확인(변경된 이전 커밋 오른쪽 클릭으로 이전 커밋 버전으로 롤백 가능)\n",
    "6. oo(oo저장소)으로 커밋(제목/내용 - 제목에는 간단하게 변경된 부분, 내용은 변경된 부분의 세세한 내용 작성. 제목만 써도 커밋 가능, 하나의 파일만 업로드 하는 경우 제목 안써도 됨)"
   ]
  }
 ],
 "metadata": {
  "kernelspec": {
   "display_name": "Python 3.10.4 ('_py_venv_3.8': venv)",
   "language": "python",
   "name": "python3"
  },
  "language_info": {
   "name": "python",
   "version": "3.10.4"
  },
  "orig_nbformat": 4,
  "vscode": {
   "interpreter": {
    "hash": "8fdbd1a8a718dcd891737b9f2c716b91ec843bca5ce8a6d2f5ff447f56ec2dd7"
   }
  }
 },
 "nbformat": 4,
 "nbformat_minor": 2
}
